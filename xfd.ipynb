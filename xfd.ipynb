{
 "cells": [
  {
   "cell_type": "code",
   "execution_count": 8,
   "metadata": {},
   "outputs": [],
   "source": [
    "import pandas as pd"
   ]
  },
  {
   "cell_type": "code",
   "execution_count": 9,
   "metadata": {},
   "outputs": [
    {
     "data": {
      "text/html": [
       "<div>\n",
       "<style scoped>\n",
       "    .dataframe tbody tr th:only-of-type {\n",
       "        vertical-align: middle;\n",
       "    }\n",
       "\n",
       "    .dataframe tbody tr th {\n",
       "        vertical-align: top;\n",
       "    }\n",
       "\n",
       "    .dataframe thead th {\n",
       "        text-align: right;\n",
       "    }\n",
       "</style>\n",
       "<table border=\"1\" class=\"dataframe\">\n",
       "  <thead>\n",
       "    <tr style=\"text-align: right;\">\n",
       "      <th></th>\n",
       "      <th>0</th>\n",
       "      <th>1</th>\n",
       "      <th>2</th>\n",
       "      <th>3</th>\n",
       "      <th>4</th>\n",
       "      <th>5</th>\n",
       "    </tr>\n",
       "  </thead>\n",
       "  <tbody>\n",
       "    <tr>\n",
       "      <th>0</th>\n",
       "      <td>农贸市场每日蔬菜价格表 2016.8.3元/斤</td>\n",
       "      <td>NaN</td>\n",
       "      <td>NaN</td>\n",
       "      <td>NaN</td>\n",
       "      <td>NaN</td>\n",
       "      <td>NaN</td>\n",
       "    </tr>\n",
       "    <tr>\n",
       "      <th>1</th>\n",
       "      <td>品种</td>\n",
       "      <td>最低价</td>\n",
       "      <td>最高价</td>\n",
       "      <td>平均价</td>\n",
       "      <td>上市量</td>\n",
       "      <td>交易额</td>\n",
       "    </tr>\n",
       "    <tr>\n",
       "      <th>2</th>\n",
       "      <td>大白菜</td>\n",
       "      <td>0.3</td>\n",
       "      <td>0.35</td>\n",
       "      <td>0.325</td>\n",
       "      <td>70</td>\n",
       "      <td>45.5</td>\n",
       "    </tr>\n",
       "    <tr>\n",
       "      <th>3</th>\n",
       "      <td>芹  菜</td>\n",
       "      <td>0.7</td>\n",
       "      <td>0.9</td>\n",
       "      <td>0.8</td>\n",
       "      <td>40</td>\n",
       "      <td>64</td>\n",
       "    </tr>\n",
       "    <tr>\n",
       "      <th>4</th>\n",
       "      <td>菠  菜</td>\n",
       "      <td>1.5</td>\n",
       "      <td>2.5</td>\n",
       "      <td>2</td>\n",
       "      <td>16</td>\n",
       "      <td>64</td>\n",
       "    </tr>\n",
       "  </tbody>\n",
       "</table>\n",
       "</div>"
      ],
      "text/plain": [
       "                         0    1     2      3    4     5\n",
       "0  农贸市场每日蔬菜价格表 2016.8.3元/斤  NaN   NaN    NaN  NaN   NaN\n",
       "1                       品种  最低价   最高价    平均价  上市量   交易额\n",
       "2                      大白菜  0.3  0.35  0.325   70  45.5\n",
       "3                     芹  菜  0.7   0.9    0.8   40    64\n",
       "4                     菠  菜  1.5   2.5      2   16    64"
      ]
     },
     "execution_count": 9,
     "metadata": {},
     "output_type": "execute_result"
    }
   ],
   "source": [
    "df = pd.read_excel('D:\\Data\\新发地菜价\\新发地每日蔬菜价格表-20160803.xls', sheet_name='Sheet1', header = None, skipfooter=3)\n",
    "#print(df.describe())\n",
    "df.head()\n"
   ]
  },
  {
   "cell_type": "code",
   "execution_count": 10,
   "metadata": {},
   "outputs": [
    {
     "name": "stdout",
     "output_type": "stream",
     "text": [
      "                          0    1     2      3    4     5    日期\n",
      "0   农贸市场每日蔬菜价格表 2016.8.3元/斤  NaN   NaN    NaN  NaN   NaN  None\n",
      "1                        品种  最低价   最高价    平均价  上市量   交易额  None\n",
      "2                       大白菜  0.3  0.35  0.325   70  45.5  None\n",
      "3                      芹  菜  0.7   0.9    0.8   40    64  None\n",
      "4                      菠  菜  1.5   2.5      2   16    64  None\n",
      "5                      番  茄  0.5   1.3    0.9   80   144  None\n",
      "6                      黄  瓜    1   2.8    1.9   20    76  None\n",
      "7                      茄  子  0.5   1.2   0.85   60   102  None\n",
      "8                      架  豆  0.6   1.2    0.9   20    36  None\n",
      "9                        尖椒  0.3   0.5    0.4   60    48  None\n",
      "10                       土豆  0.4   0.5   0.45  120   108  None\n",
      "11                     黄皮葱头  0.5   0.6   0.55   80    88  None\n",
      "12                        葱  0.5   0.7    0.6   75    90  None\n",
      "13                     冬  瓜  0.2   0.4    0.3   80    48  None\n",
      "14                      柿子椒  0.5   0.6   0.55   25  27.5  None\n",
      "15                     生  菜  1.5     2   1.75   30   105  None\n",
      "16                     红皮葱头  0.6   0.9   0.75   50    75  None\n",
      "17                    甘蓝洋白菜  0.3   0.4   0.35   50    35  None\n",
      "18                      小白菜  0.8     1    0.9    2   3.6  None\n",
      "19                     油  菜  1.5   2.2   1.85    2   7.4  None\n",
      "20                     韭  菜  1.3     2   1.65    4  13.2  None\n",
      "21                     蒜  苗    3   5.2    4.1    4  32.8  None\n",
      "22                       香椿    7     8    7.5  0.1   1.5  None\n",
      "23                       鲜蒜    0     0      0    0     0  None\n",
      "24                        姜  0.7   1.5    1.1   15    33  None\n",
      "25                       鲜姜  1.7     2   1.85    8  29.6  None\n",
      "26                      大 蒜  5.5   6.6   6.05   30   363  None\n",
      "27                     豆  王  0.8   1.2      1    4     8  None\n",
      "28                     扁  豆    1   1.5   1.25    2     5  None\n",
      "29                     豇  豆    1   1.5   1.25   10    25  None\n",
      "..                      ...  ...   ...    ...  ...   ...   ...\n",
      "63                     线  椒  0.6   1.5   1.05   20    42  None\n",
      "64                       杭椒    1   1.8    1.4   10    28  None\n",
      "65                     散叶生菜    2   2.5   2.25    1   4.5  None\n",
      "66                      散菜花  0.7   1.2   0.95   18  34.2  None\n",
      "67                       豌豆    0     0      0    0     0  None\n",
      "68                       蚕豆    0     0      0    0     0  None\n",
      "69                        藕    3   3.3   3.15    6  37.8  None\n",
      "70                     茭  白  2.2   2.5   2.35    4  18.8  None\n",
      "71                     铁棍山药  2.5   4.5    3.5    6    42  None\n",
      "72                       山药    1   1.5   1.25   10    25  None\n",
      "73                      山药豆    0     0      0    0     0  None\n",
      "74                     芋  头  1.2     2    1.6  0.5   1.6  None\n",
      "75                     长  茄  0.8   1.5   1.15    8  18.4  None\n",
      "76                       线茄  1.3     2   1.65    2   6.6  None\n",
      "77                       广茄  0.8     1    0.9   12  21.6  None\n",
      "78                      紫甘蓝  0.3   0.4   0.35   10     7  None\n",
      "79                     金丝南瓜  0.4  0.45  0.425   50  42.5  None\n",
      "80                     樱  西  0.8   1.2      1    8    16  None\n",
      "81                     紫  薯  1.8   2.2      2    2     8  None\n",
      "82                     荸  荠  2.5     3   2.75    1   5.5  None\n",
      "83                       瓠子  0.5   0.7    0.6    8   9.6  None\n",
      "84                       凉薯    0     0      0    0     0  None\n",
      "85                      油麦菜  2.5     4   3.25    3  19.5  None\n",
      "86                      鲜玉米  0.4   0.7   0.55   90    99  None\n",
      "87                       西芹    0     0      0    0     0  None\n",
      "88                       牛蒡    2   2.3   2.15  0.1  0.43  None\n",
      "89                      白不老    1   1.5   1.25    4    10  None\n",
      "90                     油  豆  0.8   1.7   1.25    3   7.5  None\n",
      "91                     苤  蓝  0.3   0.5    0.4    2   1.6  None\n",
      "92                      NaN  NaN   NaN    NaN  NaN   NaN  None\n",
      "\n",
      "[93 rows x 7 columns]\n"
     ]
    }
   ],
   "source": [
    "df['日期'] = 'None'\n",
    "#print(df.head())\n",
    "print(df)\n",
    "#print(df.describe())"
   ]
  },
  {
   "cell_type": "code",
   "execution_count": 15,
   "metadata": {},
   "outputs": [
    {
     "ename": "SyntaxError",
     "evalue": "EOL while scanning string literal (<ipython-input-15-e8fa17268a9c>, line 3)",
     "output_type": "error",
     "traceback": [
      "\u001b[1;36m  File \u001b[1;32m\"<ipython-input-15-e8fa17268a9c>\"\u001b[1;36m, line \u001b[1;32m3\u001b[0m\n\u001b[1;33m    print('D:\\Data\\新发地菜价\\特菜\\'+specialVegList[i-1])\u001b[0m\n\u001b[1;37m                                                  ^\u001b[0m\n\u001b[1;31mSyntaxError\u001b[0m\u001b[1;31m:\u001b[0m EOL while scanning string literal\n"
     ]
    }
   ],
   "source": [
    "for i in range(1, len(specialVegList)):\n",
    "    #doc_address = 'D:\\Data\\新发地菜价\\特菜\\'+specialVegList[i]\n",
    "    print('D:\\Data\\新发地菜价\\特菜\\'+specialVegList[i-1])\n",
    "    #df_temp = pd.read_excel(doc_address, sheet_name='Sheet1', header = 1, skipfooter=3)\n",
    "    #colDate = specialVegList[9:13]+'-'+specialVegList[13:14]+'-'+specialVegList[15:16]\n",
    "    #df['日期'] = colDate\n",
    "    #df = df.append(df_temp)\n",
    "    i += 1\n",
    "    if i > 5:\n",
    "        break"
   ]
  },
  {
   "cell_type": "code",
   "execution_count": null,
   "metadata": {},
   "outputs": [],
   "source": []
  },
  {
   "cell_type": "code",
   "execution_count": null,
   "metadata": {},
   "outputs": [],
   "source": []
  }
 ],
 "metadata": {
  "kernelspec": {
   "display_name": "Python 3",
   "language": "python",
   "name": "python3"
  },
  "language_info": {
   "codemirror_mode": {
    "name": "ipython",
    "version": 3
   },
   "file_extension": ".py",
   "mimetype": "text/x-python",
   "name": "python",
   "nbconvert_exporter": "python",
   "pygments_lexer": "ipython3",
   "version": "3.6.6"
  }
 },
 "nbformat": 4,
 "nbformat_minor": 2
}
